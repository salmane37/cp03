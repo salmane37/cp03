{
 "cells": [
  {
   "cell_type": "code",
   "execution_count": 6,
   "id": "d645bb60",
   "metadata": {},
   "outputs": [
    {
     "data": {
      "text/plain": [
       "35"
      ]
     },
     "execution_count": 6,
     "metadata": {},
     "output_type": "execute_result"
    }
   ],
   "source": [
    "def f(x,y,z):\n",
    "    if(x>=y and x>=z):\n",
    "        return(x)\n",
    "    elif(y>=x and y>=z):\n",
    "        return(y)\n",
    "    else:\n",
    "        return(z)\n",
    "f(20,35,19)    \n"
   ]
  },
  {
   "cell_type": "code",
   "execution_count": 16,
   "id": "8b31f080",
   "metadata": {},
   "outputs": [
    {
     "data": {
      "text/plain": [
       "(50, 30)"
      ]
     },
     "execution_count": 16,
     "metadata": {},
     "output_type": "execute_result"
    }
   ],
   "source": [
    "def calculation(x, y):\n",
    "    a = x + y\n",
    "    b = x - y\n",
    "    return(a, b)\n",
    "calculation(40 , 10)"
   ]
  },
  {
   "cell_type": "code",
   "execution_count": 7,
   "id": "635ba7fa",
   "metadata": {},
   "outputs": [
    {
     "name": "stdout",
     "output_type": "stream",
     "text": [
      "40\n",
      "10\n"
     ]
    },
    {
     "data": {
      "text/plain": [
       "(50, 30)"
      ]
     },
     "execution_count": 7,
     "metadata": {},
     "output_type": "execute_result"
    }
   ],
   "source": [
    "def calculation():\n",
    "    x = input()\n",
    "    x = int(x)\n",
    "    y = input()\n",
    "    y = int(y)\n",
    "    a = x + y\n",
    "    b = x - y\n",
    "    return(a, b)\n",
    "calculation()\n",
    "# Autre methode"
   ]
  },
  {
   "cell_type": "code",
   "execution_count": 24,
   "id": "95e40be8",
   "metadata": {},
   "outputs": [
    {
     "data": {
      "text/plain": [
       "17"
      ]
     },
     "execution_count": 24,
     "metadata": {},
     "output_type": "execute_result"
    }
   ],
   "source": [
    "def somme(l):\n",
    "    \n",
    "    a = 0\n",
    "    for m in l:\n",
    "        a += m\n",
    "    return(a) \n",
    "somme([2, 4, 5, 6])    "
   ]
  },
  {
   "cell_type": "code",
   "execution_count": 23,
   "id": "23780c54",
   "metadata": {},
   "outputs": [
    {
     "data": {
      "text/plain": [
       "240"
      ]
     },
     "execution_count": 23,
     "metadata": {},
     "output_type": "execute_result"
    }
   ],
   "source": [
    "def multiplication(l):\n",
    "    \n",
    "    a = 1\n",
    "    for m in l:\n",
    "        a *= m\n",
    "    return(a) \n",
    "multiplication([2, 4, 5, 6])"
   ]
  },
  {
   "cell_type": "code",
   "execution_count": 29,
   "id": "998f2b3a",
   "metadata": {},
   "outputs": [
    {
     "data": {
      "text/plain": [
       "(7, 24)"
      ]
     },
     "execution_count": 29,
     "metadata": {},
     "output_type": "execute_result"
    }
   ],
   "source": [
    "def sommemultliste(l):\n",
    "    liste_somme = []\n",
    "    liste_multiplication = []\n",
    "    for i in range (len(l)):\n",
    "        if i % 2 == 0:\n",
    "            liste_somme.append(l[i])\n",
    "        else:\n",
    "             liste_multiplication.append(l[i])\n",
    "  \n",
    "\n",
    "    s = somme(liste_somme)\n",
    "    m = multiplication(liste_multiplication)\n",
    "    return (s, m)\n",
    "sommemultliste([2, 4, 5, 6])"
   ]
  },
  {
   "cell_type": "code",
   "execution_count": 54,
   "id": "552b5bb6",
   "metadata": {},
   "outputs": [
    {
     "name": "stdout",
     "output_type": "stream",
     "text": [
      "black-green-red-white-yellow\n"
     ]
    }
   ],
   "source": [
    "c = 'green-red-yellow-black-white'\n",
    "def ex4(w):\n",
    "    \n",
    "    new_c = w.split('-')\n",
    "    new_c.sort()\n",
    "    \n",
    "    a ='-'.join(new_c)\n",
    "    return(a)\n",
    "print(ex4(c))"
   ]
  },
  {
   "cell_type": "code",
   "execution_count": 57,
   "id": "8e227652",
   "metadata": {},
   "outputs": [
    {
     "name": "stdout",
     "output_type": "stream",
     "text": [
      "donner une sequence de nombre separes par des virgules: 100,150,180\n",
      "18,22,24\n"
     ]
    }
   ],
   "source": [
    "from math import sqrt\n",
    "def calculate_Q_seq(D):\n",
    "    Q = lambda c, d, h: sqrt((2*c*d)/h)\n",
    "    D_int = list(map(int, D.split(',')))\n",
    "    D_int = [Q(50, d, 30)for d in D_int]\n",
    "    D_int = list(map(int, D_int))\n",
    "    D_int = ','.join(map(str, D_int))\n",
    "    return (D_int)\n",
    "D = input ('donner une sequence de nombre separes par des virgules: ')\n",
    "print(calculate_Q_seq(D)) "
   ]
  },
  {
   "cell_type": "code",
   "execution_count": null,
   "id": "0aa6c229",
   "metadata": {},
   "outputs": [],
   "source": []
  }
 ],
 "metadata": {
  "kernelspec": {
   "display_name": "Python 3 (ipykernel)",
   "language": "python",
   "name": "python3"
  },
  "language_info": {
   "codemirror_mode": {
    "name": "ipython",
    "version": 3
   },
   "file_extension": ".py",
   "mimetype": "text/x-python",
   "name": "python",
   "nbconvert_exporter": "python",
   "pygments_lexer": "ipython3",
   "version": "3.9.12"
  }
 },
 "nbformat": 4,
 "nbformat_minor": 5
}
